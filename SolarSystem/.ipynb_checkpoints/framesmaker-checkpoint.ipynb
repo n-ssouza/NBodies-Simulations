{
 "cells": [
  {
   "cell_type": "code",
   "execution_count": null,
   "metadata": {},
   "outputs": [],
   "source": [
    "import numpy as np\n",
    "import matplotlib.pyplot as plt\n",
    "\n",
    "number_of_frames =\n",
    "\n",
    "framenumber = 0\n",
    "while(framenumber <= number_of_frames):\n",
    "    datafile = \"iteration\" + str(framenumber) + \".txt\"\n",
    "    positions_x, positions_y, positions_z = np.loadtxt(datafile, unpack = True)\n",
    "\n",
    "    number_of_objects = len(positions_x)\n",
    "\n",
    "    background_x = np.linspace(-2, 2, 100)\n",
    "    background_y = np.linspace(-2, 2, 100)\n",
    "\n",
    "    plt.figure(1, figsize = (6,4) )\n",
    "    plt.plot(background_x, background_y, 'w')\n",
    "    plt.plot(positions_x, positions_y, 'bo')\n",
    "    \n",
    "    framename = \"frame\" + str(framenumber) + \".jpg\"\n",
    "    plt.savefig(framename)"
   ]
  }
 ],
 "metadata": {
  "kernelspec": {
   "display_name": "Python 3",
   "language": "python",
   "name": "python3"
  },
  "language_info": {
   "codemirror_mode": {
    "name": "ipython",
    "version": 3
   },
   "file_extension": ".py",
   "mimetype": "text/x-python",
   "name": "python",
   "nbconvert_exporter": "python",
   "pygments_lexer": "ipython3",
   "version": "3.8.3"
  }
 },
 "nbformat": 4,
 "nbformat_minor": 4
}
