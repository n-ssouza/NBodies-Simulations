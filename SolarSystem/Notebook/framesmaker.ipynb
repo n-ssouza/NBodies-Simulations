{
 "cells": [
  {
   "cell_type": "markdown",
   "metadata": {},
   "source": [
    "Código para visualização de órbitas: versão atual"
   ]
  },
  {
   "cell_type": "markdown",
   "metadata": {},
   "source": [
    "# import sys\n",
    "import numpy as np\n",
    "import matplotlib.pyplot as plt\n",
    "\n",
    "\n",
    "def plot_and_save(fig, ax1, ax2, positions_x, positions_y):\n",
    "\n",
    "    ax1.cla()\n",
    "    ax1.set_xlim(-2.5, 2.5)\n",
    "    ax1.set_ylim(-2.5, 2.5)\n",
    "    ax1.set_xlabel('Position in X (AU)')\n",
    "    ax1.set_ylabel('Position in Y (AU)')\n",
    "    ax1.set_aspect('equal')\n",
    "    \n",
    "    ax2.set_xlim(-2.5, 2.5)\n",
    "    ax2.set_ylim(-2.5, 2.5)\n",
    "    ax2.set_xlabel('Position in X (AU)')\n",
    "    ax2.set_ylabel('Position in Y (AU)')\n",
    "    ax2.set_aspect('equal')\n",
    "    \n",
    "    base_colors = ['b', 'g', 'r', 'c', 'm', 'y', 'k']\n",
    "    \n",
    "    for i in range(0, number_of_objects): \n",
    "        ax1.plot(positions_x[i], positions_y[i], base_colors[i]+'o', markersize = 1.3)\n",
    "            \n",
    "    ax2.plot(positions_x, positions_y, 'co', markersize = 0.9)\n",
    "    \n",
    "    fig.savefig(\"/home/nicholassouza/PyProgs/NcorposSistemaSolar/Simulations/Outputs/Frames/{}\".format(framename))\n",
    "\n",
    "\n",
    "#number_of_frames = int(sys.argv[1])\n",
    "\n",
    "fig, ax1, ax2, ax3 = plt.subplots(nrows=1, ncols=1)\n",
    "framenumber = 1\n",
    "while(framenumber <= 365):\n",
    "\n",
    "    datafile = \"/home/nicholassouza/PyProgs/NcorposSistemaSolar/Simulations/Outputs/TextFiles/day{}.txt\".format(framenumber)\n",
    "    framename = \"frame{}.jpg\".format(framenumber)\n",
    "    \n",
    "    positions_x, positions_y, positions_z = np.loadtxt(datafile, unpack = True)\n",
    "    number_of_objects = len(positions_x)\n",
    "    \n",
    "    plot_and_save(fig, ax1, ax2, positions_x, positions_y)\n",
    "   \n",
    "    framenumber = framenumber + 1"
   ]
  }
 ],
 "metadata": {
  "kernelspec": {
   "display_name": "Python 3",
   "language": "python",
   "name": "python3"
  },
  "language_info": {
   "codemirror_mode": {
    "name": "ipython",
    "version": 3
   },
   "file_extension": ".py",
   "mimetype": "text/x-python",
   "name": "python",
   "nbconvert_exporter": "python",
   "pygments_lexer": "ipython3",
   "version": "3.8.3"
  }
 },
 "nbformat": 4,
 "nbformat_minor": 4
}
